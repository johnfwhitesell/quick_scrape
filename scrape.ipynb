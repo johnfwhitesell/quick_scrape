{
 "cells": [
  {
   "cell_type": "code",
   "execution_count": 2,
   "metadata": {},
   "outputs": [],
   "source": [
    "import requests\n",
    "import re\n",
    "import matplotlib.pyplot as plt\n",
    "%matplotlib inline\n",
    "\n",
    "responses = []\n",
    "for x in range(2000,2017):\n",
    "    url = 'http://www.spacelaunchreport.com/log' + str(x) + '.html'\n",
    "    responses.append((x, requests.get(url)))\n",
    "\n",
    "totals = []\n",
    "\n",
    "\n",
    "for r in responses:\n",
    "    if r[1].ok==False:\n",
    "        responses.remove(r)\n",
    "\n",
    "totals = []\n",
    "for r in responses:\n",
    "    text = r[1].text\n",
    "    text2 = text.replace(\"&nbsp;\", '')\n",
    "    totals.append(int(re.search(\"Total *..\", text2).group()[-2:]))\n",
    "\n",
    "years = []\n",
    "for y in responses:\n",
    "    years.append(int(y[0]))\n",
    "    \n",
    "plt.scatter(years, totals)\n",
    "plt.savefig()"
   ]
  },
  {
   "cell_type": "code",
   "execution_count": null,
   "metadata": {},
   "outputs": [],
   "source": []
  },
  {
   "cell_type": "code",
   "execution_count": null,
   "metadata": {},
   "outputs": [],
   "source": []
  }
 ],
 "metadata": {
  "kernelspec": {
   "display_name": "Python 3",
   "language": "python",
   "name": "python3"
  },
  "language_info": {
   "codemirror_mode": {
    "name": "ipython",
    "version": 3
   },
   "file_extension": ".py",
   "mimetype": "text/x-python",
   "name": "python",
   "nbconvert_exporter": "python",
   "pygments_lexer": "ipython3",
   "version": "3.6.4"
  }
 },
 "nbformat": 4,
 "nbformat_minor": 2
}
