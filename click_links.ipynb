{
 "cells": [
  {
   "cell_type": "code",
   "execution_count": 226,
   "metadata": {
    "scrolled": true
   },
   "outputs": [
    {
     "data": {
      "text/plain": [
       "Name\n",
       "Harwell, Nathan                https://www.linkedin.com/sales/gmail/profile/viewByEmail/NEHarwell@gmail.com\n",
       "Hashime, Sayed     https://www.linkedin.com/sales/gmail/profile/viewByEmail/sayed.hashime@blueamberlabs.com\n",
       "Hauser, Steven                https://www.linkedin.com/sales/gmail/profile/viewByEmail/shauser@gridwise.org\n",
       "Head, William          https://www.linkedin.com/sales/gmail/profile/viewByEmail/wghead@brunerassociates.com\n",
       "Hilton, Paul             https://www.linkedin.com/sales/gmail/profile/viewByEmail/paul.hilton3548@gmail.com\n",
       "Hines, Dawn                  https://www.linkedin.com/sales/gmail/profile/viewByEmail/Hines_Dawn@ne.bah.com\n",
       "Hoffman, Jamie                   https://www.linkedin.com/sales/gmail/profile/viewByEmail/jamieh554@aol.com\n",
       "Huber, Dennis              https://www.linkedin.com/sales/gmail/profile/viewByEmail/huber_dennis@ne.bah.com\n",
       "Janysek, Lisa                https://www.linkedin.com/sales/gmail/profile/viewByEmail/gates_lisa@ne.bah.com\n",
       "Jones, Rick                      https://www.linkedin.com/sales/gmail/profile/viewByEmail/richardj3@cox.net\n",
       "Name: url_link, dtype: object"
      ]
     },
     "execution_count": 226,
     "metadata": {},
     "output_type": "execute_result"
    }
   ],
   "source": [
    "one.url_link.iloc[70:80]"
   ]
  },
  {
   "cell_type": "code",
   "execution_count": 219,
   "metadata": {},
   "outputs": [
    {
     "data": {
      "text/plain": [
       "80           https://www.linkedin.com/sales/gmail/profile/viewByEmail/mhkagan.it@gmail.com\n",
       "81           https://www.linkedin.com/sales/gmail/profile/viewByEmail/kattman289@yahoo.com\n",
       "82    https://www.linkedin.com/sales/gmail/profile/viewByEmail/debbie.eastisking@gmail.com\n",
       "83     https://www.linkedin.com/sales/gmail/profile/viewByEmail/Kingsley_Shelby@ne.bah.com\n",
       "84              https://www.linkedin.com/sales/gmail/profile/viewByEmail/rob@orkestrel.net\n",
       "85           https://www.linkedin.com/sales/gmail/profile/viewByEmail/ronan.knox@gmail.com\n",
       "86         https://www.linkedin.com/sales/gmail/profile/viewByEmail/ljkrush@roadrunner.com\n",
       "87             https://www.linkedin.com/sales/gmail/profile/viewByEmail/lafleurtim@aol.com\n",
       "88     https://www.linkedin.com/sales/gmail/profile/viewByEmail/laskofski_wayne@ne.bah.com\n",
       "89     https://www.linkedin.com/sales/gmail/profile/viewByEmail/brianwalterlewis@gmail.com\n",
       "Name: url_link, dtype: object"
      ]
     },
     "execution_count": 219,
     "metadata": {},
     "output_type": "execute_result"
    }
   ],
   "source": [
    "one.reset_index().iloc[80:90].url_link"
   ]
  },
  {
   "cell_type": "code",
   "execution_count": 220,
   "metadata": {},
   "outputs": [
    {
     "data": {
      "text/plain": [
       "90        https://www.linkedin.com/sales/gmail/profile/viewByEmail/craig.lewis@vanderbilt.edu\n",
       "91           https://www.linkedin.com/sales/gmail/profile/viewByEmail/chrissegall@hotmail.com\n",
       "92            https://www.linkedin.com/sales/gmail/profile/viewByEmail/litz_marnie@ne.bah.com\n",
       "93            https://www.linkedin.com/sales/gmail/profile/viewByEmail/tonylorentz3@gmail.com\n",
       "94     https://www.linkedin.com/sales/gmail/profile/viewByEmail/ploustaunau@conseil-vista.com\n",
       "95                    https://www.linkedin.com/sales/gmail/profile/viewByEmail/jluke33@me.com\n",
       "96                  https://www.linkedin.com/sales/gmail/profile/viewByEmail/lslund@yahoo.com\n",
       "97          https://www.linkedin.com/sales/gmail/profile/viewByEmail/mike_mabutas@hotmail.com\n",
       "98             https://www.linkedin.com/sales/gmail/profile/viewByEmail/crystalmank@gmail.com\n",
       "99    https://www.linkedin.com/sales/gmail/profile/viewByEmail/scott.marshall@coinfinders.com\n",
       "Name: url_link, dtype: object"
      ]
     },
     "execution_count": 220,
     "metadata": {},
     "output_type": "execute_result"
    }
   ],
   "source": [
    "one.reset_index().iloc[90:100].url_link"
   ]
  },
  {
   "cell_type": "code",
   "execution_count": 221,
   "metadata": {},
   "outputs": [
    {
     "data": {
      "text/plain": [
       "110                 https://www.linkedin.com/sales/gmail/profile/viewByEmail/awmiddleton@cox.net\n",
       "111                  https://www.linkedin.com/sales/gmail/profile/viewByEmail/soozie97@gmail.com\n",
       "112                    https://www.linkedin.com/sales/gmail/profile/viewByEmail/wfmorr48@cox.net\n",
       "113                   https://www.linkedin.com/sales/gmail/profile/viewByEmail/mbmouch@yahoo.com\n",
       "114           https://www.linkedin.com/sales/gmail/profile/viewByEmail/karenmullikin@verizon.net\n",
       "115          https://www.linkedin.com/sales/gmail/profile/viewByEmail/murph.bernadette@gmail.com\n",
       "116               https://www.linkedin.com/sales/gmail/profile/viewByEmail/tjmurphy625@yahoo.com\n",
       "117    https://www.linkedin.com/sales/gmail/profile/viewByEmail/gary@orchestratingexcellence.com\n",
       "118                   https://www.linkedin.com/sales/gmail/profile/viewByEmail/bfnash1@gmail.com\n",
       "119                 https://www.linkedin.com/sales/gmail/profile/viewByEmail/dmnaylo@comcast.net\n",
       "Name: url_link, dtype: object"
      ]
     },
     "execution_count": 221,
     "metadata": {},
     "output_type": "execute_result"
    }
   ],
   "source": [
    "\n",
    "one.reset_index().iloc[110:120].url_link"
   ]
  },
  {
   "cell_type": "code",
   "execution_count": 222,
   "metadata": {},
   "outputs": [
    {
     "data": {
      "text/plain": [
       "130                   https://www.linkedin.com/sales/gmail/profile/viewByEmail/polise@comcast.net\n",
       "131           https://www.linkedin.com/sales/gmail/profile/viewByEmail/doug_purvance1@verizon.net\n",
       "132         https://www.linkedin.com/sales/gmail/profile/viewByEmail/carolyn.quinn.edit@gmail.com\n",
       "133                    https://www.linkedin.com/sales/gmail/profile/viewByEmail/swramsa@gmail.com\n",
       "134                https://www.linkedin.com/sales/gmail/profile/viewByEmail/paulareible@gmail.com\n",
       "135             https://www.linkedin.com/sales/gmail/profile/viewByEmail/rigglejennifer@gmail.com\n",
       "136           https://www.linkedin.com/sales/gmail/profile/viewByEmail/Robertson_Jenny@ne.bah.com\n",
       "137             https://www.linkedin.com/sales/gmail/profile/viewByEmail/sheila.h.roman@gmail.com\n",
       "138            https://www.linkedin.com/sales/gmail/profile/viewByEmail/marshall.ruffin@gmail.com\n",
       "139    https://www.linkedin.com/sales/gmail/profile/viewByEmail/wendivoltmer@smart-biznetwork.com\n",
       "Name: url_link, dtype: object"
      ]
     },
     "execution_count": 222,
     "metadata": {},
     "output_type": "execute_result"
    }
   ],
   "source": [
    "\n",
    "one.reset_index().iloc[130:140].url_link"
   ]
  },
  {
   "cell_type": "code",
   "execution_count": 223,
   "metadata": {},
   "outputs": [
    {
     "data": {
      "text/plain": [
       "150    https://www.linkedin.com/sales/gmail/profile/viewByEmail/smallwood@creativewake.com\n",
       "151           https://www.linkedin.com/sales/gmail/profile/viewByEmail/smithcin1@gmail.com\n",
       "152             https://www.linkedin.com/sales/gmail/profile/viewByEmail/krsmith25@msn.com\n",
       "153             https://www.linkedin.com/sales/gmail/profile/viewByEmail/krsmith25@msn.com\n",
       "154             https://www.linkedin.com/sales/gmail/profile/viewByEmail/wendins@gmail.com\n",
       "155               https://www.linkedin.com/sales/gmail/profile/viewByEmail/sobotkam@cs.com\n",
       "156    https://www.linkedin.com/sales/gmail/profile/viewByEmail/Sozewska_Sulika@ne.bah.com\n",
       "157             https://www.linkedin.com/sales/gmail/profile/viewByEmail/spaniol@gmail.com\n",
       "158    https://www.linkedin.com/sales/gmail/profile/viewByEmail/espann@gritterfrancona.com\n",
       "159        https://www.linkedin.com/sales/gmail/profile/viewByEmail/timspeno@e2esummit.com\n",
       "Name: url_link, dtype: object"
      ]
     },
     "execution_count": 223,
     "metadata": {},
     "output_type": "execute_result"
    }
   ],
   "source": [
    "\n",
    "one.reset_index().iloc[150:160].url_link"
   ]
  },
  {
   "cell_type": "code",
   "execution_count": 224,
   "metadata": {},
   "outputs": [
    {
     "data": {
      "text/plain": [
       "170    https://www.linkedin.com/sales/gmail/profile/viewByEmail/agustin.taveras@gmail.com\n",
       "171    https://www.linkedin.com/sales/gmail/profile/viewByEmail/agustin.taveras@gmail.com\n",
       "172              https://www.linkedin.com/sales/gmail/profile/viewByEmail/kvtaylor@me.com\n",
       "173     https://www.linkedin.com/sales/gmail/profile/viewByEmail/thomas.k.s@sbcglobal.net\n",
       "174       https://www.linkedin.com/sales/gmail/profile/viewByEmail/hollytompson@yahoo.com\n",
       "175         https://www.linkedin.com/sales/gmail/profile/viewByEmail/barb.trent@gmail.com\n",
       "176    https://www.linkedin.com/sales/gmail/profile/viewByEmail/nupasani@yrssolutions.com\n",
       "177              https://www.linkedin.com/sales/gmail/profile/viewByEmail/avt1120@aol.com\n",
       "178         https://www.linkedin.com/sales/gmail/profile/viewByEmail/peter@petervelez.com\n",
       "179         https://www.linkedin.com/sales/gmail/profile/viewByEmail/jsveyera@outlook.com\n",
       "Name: url_link, dtype: object"
      ]
     },
     "execution_count": 224,
     "metadata": {},
     "output_type": "execute_result"
    }
   ],
   "source": [
    "\n",
    "one.reset_index().iloc[170:180].url_link"
   ]
  },
  {
   "cell_type": "code",
   "execution_count": 225,
   "metadata": {},
   "outputs": [
    {
     "data": {
      "text/plain": [
       "180       https://www.linkedin.com/sales/gmail/profile/viewByEmail/jackie.massaglia@gmail.com\n",
       "181                  https://www.linkedin.com/sales/gmail/profile/viewByEmail/eebek@yahoo.com\n",
       "182       https://www.linkedin.com/sales/gmail/profile/viewByEmail/george.weightman@gmail.com\n",
       "183             https://www.linkedin.com/sales/gmail/profile/viewByEmail/dhweinberg@gmail.com\n",
       "184    https://www.linkedin.com/sales/gmail/profile/viewByEmail/marcweissconsulting@gmail.com\n",
       "185           https://www.linkedin.com/sales/gmail/profile/viewByEmail/wells_katie@ne.bah.com\n",
       "186               https://www.linkedin.com/sales/gmail/profile/viewByEmail/ellen8or@gmail.com\n",
       "187              https://www.linkedin.com/sales/gmail/profile/viewByEmail/mcwilmer@icloud.com\n",
       "188                https://www.linkedin.com/sales/gmail/profile/viewByEmail/dagascard@msn.com\n",
       "189                  https://www.linkedin.com/sales/gmail/profile/viewByEmail/jwoodson@bu.edu\n",
       "190          https://www.linkedin.com/sales/gmail/profile/viewByEmail/debyeagle@plantowin.biz\n",
       "191        https://www.linkedin.com/sales/gmail/profile/viewByEmail/zeitounstrategy@gmail.com\n",
       "192              https://www.linkedin.com/sales/gmail/profile/viewByEmail/djzetter@zetter.com\n",
       "Name: url_link, dtype: object"
      ]
     },
     "execution_count": 225,
     "metadata": {},
     "output_type": "execute_result"
    }
   ],
   "source": [
    "\n",
    "one.reset_index().iloc[180:].url_link"
   ]
  }
 ],
 "metadata": {
  "kernelspec": {
   "display_name": "Python 3",
   "language": "python",
   "name": "python3"
  },
  "language_info": {
   "codemirror_mode": {
    "name": "ipython",
    "version": 3
   },
   "file_extension": ".py",
   "mimetype": "text/x-python",
   "name": "python",
   "nbconvert_exporter": "python",
   "pygments_lexer": "ipython3",
   "version": "3.6.4"
  }
 },
 "nbformat": 4,
 "nbformat_minor": 2
}
